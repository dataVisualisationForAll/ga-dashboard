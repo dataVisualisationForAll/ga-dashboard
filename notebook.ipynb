{
 "metadata": {
  "language_info": {
   "codemirror_mode": {
    "name": "ipython",
    "version": 3
   },
   "file_extension": ".py",
   "mimetype": "text/x-python",
   "name": "python",
   "nbconvert_exporter": "python",
   "pygments_lexer": "ipython3",
   "version": "3.7.6-final"
  },
  "orig_nbformat": 2,
  "kernelspec": {
   "name": "python3",
   "display_name": "Python 3",
   "language": "python"
  }
 },
 "nbformat": 4,
 "nbformat_minor": 2,
 "cells": [
  {
   "cell_type": "code",
   "execution_count": 1,
   "metadata": {},
   "outputs": [],
   "source": [
    "import pandas as pd\n",
    "import plotly.express as px\n",
    "import dash\n",
    "import dash_core_components as dcc\n",
    "import dash_html_components as html\n",
    "from dash.dependencies import Input, Output\n",
    "\n",
    "# spreadsheet directory\n",
    "workbook = './data/ga_rawdata.xlsx'\n",
    "\n",
    "# read all excel sheets\n",
    "all_dfs = pd.read_excel(workbook, sheet_name=None)\n",
    "\n",
    "# drop unwanted sheet from dictionary\n",
    "removed = all_dfs.pop('Copy of Report Configuration')\n",
    "\n",
    "merged_df = pd.DataFrame()\n",
    "\n",
    "# for iteration to modify all dataframes\n",
    "for df in all_dfs:\n",
    "\n",
    "    # drop possibly empty columns \n",
    "    all_dfs[df] = all_dfs[df].iloc[:,0:5]\n",
    "\n",
    "    # rename columns (drop 'ga:')\n",
    "    for col in all_dfs[df].columns:\n",
    "        all_dfs[df].rename(columns={col : col[3:]}, inplace=True)\n",
    "    \n",
    "    # create month and year columns for easier manipulation & drop yearMonth   \n",
    "    all_dfs[df]['year'] = all_dfs[df]['yearMonth'].apply(lambda x: str(x)[:4])\n",
    "    all_dfs[df]['month'] = all_dfs[df]['yearMonth'].apply(lambda x: str(x)[4:])\n",
    "    all_dfs[df].drop(columns=['yearMonth'], inplace=True)\n",
    "    \n",
    "\n",
    "    # merge all dataframes \n",
    "    all_dfs[df]['market'] = df\n",
    "\n",
    "    merged_df = pd.concat(all_dfs, ignore_index=True)\n",
    "\n",
    "# create summary dataframe\n",
    "summary_df = merged_df.groupby(['market','year']).agg({\n",
    "                    'users':'mean',\n",
    "                    'bounces' : 'mean',\n",
    "                    'pageviews' : 'mean',\n",
    "                    'sessions' : 'mean',\n",
    "                })\n",
    "\n",
    "# rename columns as average\n",
    "for col in summary_df.columns:\n",
    "    summary_df.rename(columns={col:str('average_'+col)}, inplace=True)\n",
    "\n",
    "# sort values based on market number\n",
    "summary_df.reset_index(inplace=True)\n",
    "summary_df['labels'] = summary_df.market.str[-2:]\n",
    "summary_df = summary_df.sort_values('labels').drop('labels', axis=1)\n",
    "summary_df.dropna(inplace=True)\n",
    "\n",
    "# create a datetime column\n",
    "merged_df.dropna(inplace=True)\n",
    "merged_df['date'] = pd.to_datetime(merged_df[['year','month']].assign(DAY=1))"
   ]
  },
  {
   "cell_type": "code",
   "execution_count": 2,
   "metadata": {},
   "outputs": [
    {
     "output_type": "execute_result",
     "data": {
      "text/plain": [
       "         users    sessions   pageviews    bounces  year month     market  \\\n",
       "0          0.0         0.0         0.0        0.0  2009    01   Market 1   \n",
       "1          0.0         0.0         0.0        0.0  2009    02   Market 1   \n",
       "2      26842.0     33513.0    181997.0    18286.0  2009    03   Market 1   \n",
       "3      35800.0     55654.0    498481.0    22716.0  2009    04   Market 1   \n",
       "4      43006.0     68553.0    548333.0    29195.0  2009    05   Market 1   \n",
       "..         ...         ...         ...        ...   ...   ...        ...   \n",
       "899  6269127.0  12068971.0  37803533.0  5886893.0  2014    09  Market 12   \n",
       "900  5850036.0  10979049.0  32880260.0  5579772.0  2014    10  Market 12   \n",
       "901  5917161.0  11465399.0  34547591.0  5805290.0  2014    11  Market 12   \n",
       "902  3665866.0   6550869.0  16030402.0  3843473.0  2014    12  Market 12   \n",
       "903  5424372.0   9860989.0  21625938.0  5874724.0  2015    01  Market 12   \n",
       "\n",
       "          date  \n",
       "0   2009-01-01  \n",
       "1   2009-02-01  \n",
       "2   2009-03-01  \n",
       "3   2009-04-01  \n",
       "4   2009-05-01  \n",
       "..         ...  \n",
       "899 2014-09-01  \n",
       "900 2014-10-01  \n",
       "901 2014-11-01  \n",
       "902 2014-12-01  \n",
       "903 2015-01-01  \n",
       "\n",
       "[876 rows x 8 columns]"
      ],
      "text/html": "<div>\n<style scoped>\n    .dataframe tbody tr th:only-of-type {\n        vertical-align: middle;\n    }\n\n    .dataframe tbody tr th {\n        vertical-align: top;\n    }\n\n    .dataframe thead th {\n        text-align: right;\n    }\n</style>\n<table border=\"1\" class=\"dataframe\">\n  <thead>\n    <tr style=\"text-align: right;\">\n      <th></th>\n      <th>users</th>\n      <th>sessions</th>\n      <th>pageviews</th>\n      <th>bounces</th>\n      <th>year</th>\n      <th>month</th>\n      <th>market</th>\n      <th>date</th>\n    </tr>\n  </thead>\n  <tbody>\n    <tr>\n      <th>0</th>\n      <td>0.0</td>\n      <td>0.0</td>\n      <td>0.0</td>\n      <td>0.0</td>\n      <td>2009</td>\n      <td>01</td>\n      <td>Market 1</td>\n      <td>2009-01-01</td>\n    </tr>\n    <tr>\n      <th>1</th>\n      <td>0.0</td>\n      <td>0.0</td>\n      <td>0.0</td>\n      <td>0.0</td>\n      <td>2009</td>\n      <td>02</td>\n      <td>Market 1</td>\n      <td>2009-02-01</td>\n    </tr>\n    <tr>\n      <th>2</th>\n      <td>26842.0</td>\n      <td>33513.0</td>\n      <td>181997.0</td>\n      <td>18286.0</td>\n      <td>2009</td>\n      <td>03</td>\n      <td>Market 1</td>\n      <td>2009-03-01</td>\n    </tr>\n    <tr>\n      <th>3</th>\n      <td>35800.0</td>\n      <td>55654.0</td>\n      <td>498481.0</td>\n      <td>22716.0</td>\n      <td>2009</td>\n      <td>04</td>\n      <td>Market 1</td>\n      <td>2009-04-01</td>\n    </tr>\n    <tr>\n      <th>4</th>\n      <td>43006.0</td>\n      <td>68553.0</td>\n      <td>548333.0</td>\n      <td>29195.0</td>\n      <td>2009</td>\n      <td>05</td>\n      <td>Market 1</td>\n      <td>2009-05-01</td>\n    </tr>\n    <tr>\n      <th>...</th>\n      <td>...</td>\n      <td>...</td>\n      <td>...</td>\n      <td>...</td>\n      <td>...</td>\n      <td>...</td>\n      <td>...</td>\n      <td>...</td>\n    </tr>\n    <tr>\n      <th>899</th>\n      <td>6269127.0</td>\n      <td>12068971.0</td>\n      <td>37803533.0</td>\n      <td>5886893.0</td>\n      <td>2014</td>\n      <td>09</td>\n      <td>Market 12</td>\n      <td>2014-09-01</td>\n    </tr>\n    <tr>\n      <th>900</th>\n      <td>5850036.0</td>\n      <td>10979049.0</td>\n      <td>32880260.0</td>\n      <td>5579772.0</td>\n      <td>2014</td>\n      <td>10</td>\n      <td>Market 12</td>\n      <td>2014-10-01</td>\n    </tr>\n    <tr>\n      <th>901</th>\n      <td>5917161.0</td>\n      <td>11465399.0</td>\n      <td>34547591.0</td>\n      <td>5805290.0</td>\n      <td>2014</td>\n      <td>11</td>\n      <td>Market 12</td>\n      <td>2014-11-01</td>\n    </tr>\n    <tr>\n      <th>902</th>\n      <td>3665866.0</td>\n      <td>6550869.0</td>\n      <td>16030402.0</td>\n      <td>3843473.0</td>\n      <td>2014</td>\n      <td>12</td>\n      <td>Market 12</td>\n      <td>2014-12-01</td>\n    </tr>\n    <tr>\n      <th>903</th>\n      <td>5424372.0</td>\n      <td>9860989.0</td>\n      <td>21625938.0</td>\n      <td>5874724.0</td>\n      <td>2015</td>\n      <td>01</td>\n      <td>Market 12</td>\n      <td>2015-01-01</td>\n    </tr>\n  </tbody>\n</table>\n<p>876 rows × 8 columns</p>\n</div>"
     },
     "metadata": {},
     "execution_count": 2
    }
   ],
   "source": [
    "merged_df"
   ]
  },
  {
   "cell_type": "code",
   "execution_count": null,
   "metadata": {},
   "outputs": [],
   "source": []
  }
 ]
}